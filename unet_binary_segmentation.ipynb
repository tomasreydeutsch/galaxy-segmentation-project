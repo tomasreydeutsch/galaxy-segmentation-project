{
  "cells": [
    {
      "cell_type": "markdown",
      "metadata": {
        "id": "f2f3f81c-7cb9-4dcb-ab36-664a91ee3e62"
      },
      "source": [
        "# Librerías"
      ],
      "id": "f2f3f81c-7cb9-4dcb-ab36-664a91ee3e62"
    },
    {
      "cell_type": "code",
      "execution_count": 1,
      "metadata": {
        "colab": {
          "base_uri": "https://localhost:8080/"
        },
        "id": "77c7990c-23e8-41f5-a522-7a1bba616b5c",
        "outputId": "980ecc25-a20c-4d75-9df6-9becc6e443e0"
      },
      "outputs": [
        {
          "output_type": "stream",
          "name": "stdout",
          "text": [
            "Mounted at /content/drive\n"
          ]
        }
      ],
      "source": [
        "import tensorflow as tf\n",
        "from tensorflow import keras\n",
        "from keras import layers\n",
        "import tensorflow_datasets as tfds\n",
        "import matplotlib.pyplot as plt\n",
        "import numpy as np\n",
        "import random\n",
        "import matplotlib as mpl\n",
        "from sklearn.metrics import confusion_matrix\n",
        "from datetime import datetime\n",
        "from keras.callbacks import CSVLogger\n",
        "from google.colab import drive\n",
        "\n",
        "drive.mount('/content/drive')\n",
        "!mkdir /root/tensorflow_datasets\n",
        "!cp -r /content/drive/MyDrive/tensorflow_dataset/galaxy_zoo3d /root/tensorflow_datasets/."
      ],
      "id": "77c7990c-23e8-41f5-a522-7a1bba616b5c"
    },
    {
      "cell_type": "markdown",
      "source": [
        "# Complete"
      ],
      "metadata": {
        "id": "gQImc2DtVF05"
      },
      "id": "gQImc2DtVF05"
    },
    {
      "cell_type": "code",
      "execution_count": 2,
      "metadata": {
        "id": "RfrRtRoh_0SA"
      },
      "outputs": [],
      "source": [
        "NUM_EPOCHS = 150\n",
        "size = 128\n",
        "mask = 'spiral_mask'\n",
        "threshold = 4\n",
        "BATCH_SIZE = 32\n",
        "BUFFER_SIZE = 300"
      ],
      "id": "RfrRtRoh_0SA"
    },
    {
      "cell_type": "markdown",
      "metadata": {
        "id": "84ad081f-8fcf-4eb7-8963-209bf6833f0c"
      },
      "source": [
        "# Data"
      ],
      "id": "84ad081f-8fcf-4eb7-8963-209bf6833f0c"
    },
    {
      "cell_type": "code",
      "execution_count": 3,
      "metadata": {
        "id": "30880108-6474-4f13-b1eb-109d431a60ea"
      },
      "outputs": [],
      "source": [
        "ds, info = tfds.load('galaxy_zoo3d', split=['train[:75%]', 'train[75%:]'], with_info=True)\n",
        "ds_train, ds_test = ds[0], ds[1]\n",
        "\n",
        "min_vote = 3\n",
        "\n",
        "ds_train_spirals = ds_train.filter(lambda x: tf.reduce_max(x['spiral_mask']) >= min_vote)\n",
        "ds_train_bars = ds_train.filter(lambda x: tf.reduce_max(x['bar_mask']) >= min_vote)\n",
        "\n",
        "ds_test_spirals = ds_test.filter(lambda x: tf.reduce_max(x['spiral_mask']) >= min_vote)\n",
        "ds_test_bars = ds_test.filter(lambda x: tf.reduce_max(x['bar_mask']) >= min_vote)"
      ],
      "id": "30880108-6474-4f13-b1eb-109d431a60ea"
    },
    {
      "cell_type": "code",
      "execution_count": 4,
      "metadata": {
        "id": "cc71bb16-23a8-4e18-9498-45ff4d39ffea"
      },
      "outputs": [],
      "source": [
        "def resize(input_image, input_mask):\n",
        "    input_image = tf.image.resize(input_image, (size, size), method=\"nearest\")\n",
        "    input_mask = tf.image.resize(input_mask, (size, size), method=\"nearest\")\n",
        "\n",
        "    return input_image, input_mask \n",
        "\n",
        "\n",
        "def augment(input_image, input_mask):\n",
        "    if tf.random.uniform(()) > 0.5:\n",
        "        input_image = tf.image.flip_left_right(input_image)\n",
        "        input_mask = tf.image.flip_left_right(input_mask)\n",
        "\n",
        "    return input_image, input_mask\n",
        "\n",
        "\n",
        "def normalize(input_image):\n",
        "    input_image = tf.cast(input_image, tf.float32) / 255.0\n",
        "  \n",
        "    return input_image\n",
        "\n",
        "\n",
        "def binary_mask(input_mask):\n",
        "    th = threshold\n",
        "    input_mask = tf.where(input_mask<th, tf.zeros_like(input_mask), tf.ones_like(input_mask))\n",
        "    \n",
        "    return input_mask\n",
        "    \n",
        "    \n",
        "def load_image_train(datapoint):\n",
        "    input_image = datapoint['image']\n",
        "    input_mask = datapoint[mask]\n",
        "    input_image, input_mask = resize(input_image, input_mask)\n",
        "    input_image, input_mask = augment(input_image, input_mask)\n",
        "    input_image = normalize(input_image)\n",
        "    input_mask = binary_mask(input_mask)\n",
        "\n",
        "    return input_image, input_mask\n",
        "\n",
        "\n",
        "def load_image_test(datapoint):\n",
        "    input_image = datapoint['image']\n",
        "    input_mask = datapoint[mask]\n",
        "    input_image, input_mask = resize(input_image, input_mask)\n",
        "    input_image = normalize(input_image)\n",
        "    input_mask = binary_mask(input_mask)\n",
        "\n",
        "    return input_image, input_mask"
      ],
      "id": "cc71bb16-23a8-4e18-9498-45ff4d39ffea"
    },
    {
      "cell_type": "code",
      "execution_count": 5,
      "metadata": {
        "id": "d68fdbe2-1eae-49bb-a21f-20d85249d7ea"
      },
      "outputs": [],
      "source": [
        "train_dataset = ds_train_spirals.map(load_image_train, num_parallel_calls=tf.data.AUTOTUNE)\n",
        "test_dataset = ds_test_spirals.map(load_image_test, num_parallel_calls=tf.data.AUTOTUNE)\n",
        "\n",
        "# Brazos: 1100, 539. Barras: 800, 453\n",
        "train_batches = train_dataset.cache().shuffle(BUFFER_SIZE).batch(BATCH_SIZE).repeat()\n",
        "train_batches = train_batches.prefetch(buffer_size=tf.data.experimental.AUTOTUNE)\n",
        "validation_batches = test_dataset.take(1100).batch(BATCH_SIZE)\n",
        "test_batches = test_dataset.skip(1100).take(539).batch(BATCH_SIZE)"
      ],
      "id": "d68fdbe2-1eae-49bb-a21f-20d85249d7ea"
    },
    {
      "cell_type": "markdown",
      "metadata": {
        "id": "f91aa58c-55ce-4bb6-8684-3be84dd70442"
      },
      "source": [
        "# Visualización"
      ],
      "id": "f91aa58c-55ce-4bb6-8684-3be84dd70442"
    },
    {
      "cell_type": "code",
      "execution_count": 6,
      "metadata": {
        "id": "4bf80554-2c52-448b-b4ec-c530e8da071a"
      },
      "outputs": [],
      "source": [
        "def display(display_list):\n",
        "  plt.figure(figsize=(15, 15))\n",
        "\n",
        "  for i in range(len(display_list)):\n",
        "    plt.subplot(1, len(display_list), i+1)\n",
        "    plt.imshow(tf.keras.utils.array_to_img(display_list[i]))\n",
        "    plt.axis(\"off\")\n",
        "  plt.show()"
      ],
      "id": "4bf80554-2c52-448b-b4ec-c530e8da071a"
    },
    {
      "cell_type": "markdown",
      "metadata": {
        "id": "91c381e3-573b-4e59-96ac-e9f7911476ae"
      },
      "source": [
        "# U-Net"
      ],
      "id": "91c381e3-573b-4e59-96ac-e9f7911476ae"
    },
    {
      "cell_type": "code",
      "execution_count": 7,
      "metadata": {
        "id": "2911cb7b-34cb-4e65-8444-11e7905c4572"
      },
      "outputs": [],
      "source": [
        "def double_conv_block(x, n_filters):\n",
        "\n",
        "    x = layers.Conv2D(n_filters, 3, padding = \"same\", activation = \"relu\", kernel_initializer = \"he_normal\")(x)\n",
        "    x = layers.Conv2D(n_filters, 3, padding = \"same\", activation = \"relu\", kernel_initializer = \"he_normal\")(x)\n",
        "\n",
        "    return x\n",
        "\n",
        "\n",
        "def downsample_block(x, n_filters):\n",
        "    \n",
        "    f = double_conv_block(x, n_filters)\n",
        "    p = layers.MaxPool2D(2)(f)\n",
        "    p = layers.Dropout(0.3)(p)\n",
        "\n",
        "    return f, p\n",
        "\n",
        "\n",
        "def upsample_block(x, conv_features, n_filters):\n",
        "    \n",
        "    x = layers.Conv2DTranspose(n_filters, 3, 2, padding=\"same\")(x)\n",
        "    x = layers.concatenate([x, conv_features])\n",
        "    x = layers.Dropout(0.3)(x)\n",
        "    x = double_conv_block(x, n_filters)\n",
        "\n",
        "    return x"
      ],
      "id": "2911cb7b-34cb-4e65-8444-11e7905c4572"
    },
    {
      "cell_type": "code",
      "execution_count": 8,
      "metadata": {
        "id": "2ca7cc04-df25-40b6-be0b-1166aedf38e6"
      },
      "outputs": [],
      "source": [
        "def build_unet_model():\n",
        "\n",
        "    inputs = layers.Input(shape=(size,size,3))\n",
        "\n",
        "    f1, p1 = downsample_block(inputs, size/2)\n",
        "    f2, p2 = downsample_block(p1, size)\n",
        "    f3, p3 = downsample_block(p2, size*2)\n",
        "    f4, p4 = downsample_block(p3, size*4)\n",
        "\n",
        "    bottleneck = double_conv_block(p4, size*8)\n",
        "\n",
        "    u6 = upsample_block(bottleneck, f4, size*4)\n",
        "    u7 = upsample_block(u6, f3, size*2)\n",
        "    u8 = upsample_block(u7, f2, size)\n",
        "    u9 = upsample_block(u8, f1, size/2)\n",
        "\n",
        "    outputs = layers.Conv2D(2, 1, padding=\"same\", activation = \"softmax\")(u9)\n",
        "\n",
        "    unet_model = tf.keras.Model(inputs, outputs, name=\"U-Net\")\n",
        "\n",
        "    return unet_model"
      ],
      "id": "2ca7cc04-df25-40b6-be0b-1166aedf38e6"
    },
    {
      "cell_type": "code",
      "execution_count": 9,
      "metadata": {
        "id": "a8ce1e65-ebdb-47a9-affe-d79533fe2599"
      },
      "outputs": [],
      "source": [
        "unet_model = build_unet_model()"
      ],
      "id": "a8ce1e65-ebdb-47a9-affe-d79533fe2599"
    },
    {
      "cell_type": "code",
      "execution_count": null,
      "metadata": {
        "colab": {
          "base_uri": "https://localhost:8080/"
        },
        "id": "f13d2a74-d811-42a2-95c6-ebae5a872415",
        "outputId": "f72f0af2-fce6-4fa3-a37b-593a0ff09bab"
      },
      "outputs": [
        {
          "output_type": "stream",
          "name": "stdout",
          "text": [
            "Epoch 1/150\n",
            "152/152 [==============================] - 329s 2s/step - loss: 0.2672 - accuracy: 0.9578 - val_loss: 0.0901 - val_accuracy: 0.9653\n",
            "Epoch 2/150\n",
            "152/152 [==============================] - 90s 561ms/step - loss: 0.0952 - accuracy: 0.9620 - val_loss: 0.0862 - val_accuracy: 0.9653\n",
            "Epoch 3/150\n",
            "152/152 [==============================] - 86s 566ms/step - loss: 0.0931 - accuracy: 0.9620 - val_loss: 0.0841 - val_accuracy: 0.9653\n",
            "Epoch 4/150\n",
            "152/152 [==============================] - 88s 581ms/step - loss: 0.0906 - accuracy: 0.9620 - val_loss: 0.0838 - val_accuracy: 0.9652\n",
            "Epoch 5/150\n",
            "152/152 [==============================] - 88s 583ms/step - loss: 0.0897 - accuracy: 0.9618 - val_loss: 0.0863 - val_accuracy: 0.9654\n",
            "Epoch 6/150\n",
            "152/152 [==============================] - 89s 585ms/step - loss: 0.0885 - accuracy: 0.9621 - val_loss: 0.0806 - val_accuracy: 0.9663\n",
            "Epoch 7/150\n",
            "152/152 [==============================] - 89s 584ms/step - loss: 0.0861 - accuracy: 0.9632 - val_loss: 0.0841 - val_accuracy: 0.9617\n",
            "Epoch 8/150\n",
            "152/152 [==============================] - 89s 586ms/step - loss: 0.0871 - accuracy: 0.9626 - val_loss: 0.0767 - val_accuracy: 0.9677\n",
            "Epoch 9/150\n",
            "152/152 [==============================] - 89s 585ms/step - loss: 0.0840 - accuracy: 0.9641 - val_loss: 0.0825 - val_accuracy: 0.9659\n",
            "Epoch 10/150\n",
            "152/152 [==============================] - 89s 585ms/step - loss: 0.0839 - accuracy: 0.9639 - val_loss: 0.0752 - val_accuracy: 0.9685\n",
            "Epoch 11/150\n",
            "152/152 [==============================] - 89s 585ms/step - loss: 0.0820 - accuracy: 0.9648 - val_loss: 0.0759 - val_accuracy: 0.9679\n",
            "Epoch 12/150\n",
            "152/152 [==============================] - 89s 584ms/step - loss: 0.0805 - accuracy: 0.9655 - val_loss: 0.0745 - val_accuracy: 0.9684\n",
            "Epoch 13/150\n",
            "152/152 [==============================] - 89s 583ms/step - loss: 0.0804 - accuracy: 0.9653 - val_loss: 0.0722 - val_accuracy: 0.9697\n",
            "Epoch 14/150\n",
            "152/152 [==============================] - 89s 583ms/step - loss: 0.0802 - accuracy: 0.9655 - val_loss: 0.0745 - val_accuracy: 0.9692\n",
            "Epoch 15/150\n",
            "152/152 [==============================] - 89s 584ms/step - loss: 0.0794 - accuracy: 0.9658 - val_loss: 0.0745 - val_accuracy: 0.9690\n",
            "Epoch 16/150\n",
            "152/152 [==============================] - 89s 583ms/step - loss: 0.0779 - accuracy: 0.9664 - val_loss: 0.0721 - val_accuracy: 0.9697\n",
            "Epoch 17/150\n",
            "152/152 [==============================] - 88s 583ms/step - loss: 0.0775 - accuracy: 0.9665 - val_loss: 0.0717 - val_accuracy: 0.9697\n",
            "Epoch 18/150\n",
            "152/152 [==============================] - 88s 582ms/step - loss: 0.0775 - accuracy: 0.9666 - val_loss: 0.0715 - val_accuracy: 0.9695\n",
            "Epoch 19/150\n",
            "152/152 [==============================] - 89s 584ms/step - loss: 0.0763 - accuracy: 0.9670 - val_loss: 0.0727 - val_accuracy: 0.9691\n",
            "Epoch 20/150\n",
            "152/152 [==============================] - 88s 582ms/step - loss: 0.0764 - accuracy: 0.9669 - val_loss: 0.0706 - val_accuracy: 0.9700\n",
            "Epoch 21/150\n",
            "152/152 [==============================] - 89s 583ms/step - loss: 0.0761 - accuracy: 0.9672 - val_loss: 0.0712 - val_accuracy: 0.9691\n",
            "Epoch 22/150\n",
            "152/152 [==============================] - 88s 582ms/step - loss: 0.0746 - accuracy: 0.9676 - val_loss: 0.0715 - val_accuracy: 0.9697\n",
            "Epoch 23/150\n",
            "152/152 [==============================] - 88s 582ms/step - loss: 0.0745 - accuracy: 0.9676 - val_loss: 0.0700 - val_accuracy: 0.9705\n",
            "Epoch 24/150\n",
            "152/152 [==============================] - 88s 581ms/step - loss: 0.0744 - accuracy: 0.9677 - val_loss: 0.0699 - val_accuracy: 0.9701\n",
            "Epoch 25/150\n",
            "152/152 [==============================] - 88s 582ms/step - loss: 0.0750 - accuracy: 0.9673 - val_loss: 0.0743 - val_accuracy: 0.9684\n",
            "Epoch 26/150\n",
            "152/152 [==============================] - 88s 582ms/step - loss: 0.0732 - accuracy: 0.9681 - val_loss: 0.0746 - val_accuracy: 0.9675\n",
            "Epoch 27/150\n",
            "152/152 [==============================] - 88s 581ms/step - loss: 0.0721 - accuracy: 0.9685 - val_loss: 0.0710 - val_accuracy: 0.9707\n",
            "Epoch 28/150\n",
            "152/152 [==============================] - 88s 581ms/step - loss: 0.0717 - accuracy: 0.9687 - val_loss: 0.0703 - val_accuracy: 0.9709\n",
            "Epoch 29/150\n",
            "152/152 [==============================] - 88s 581ms/step - loss: 0.0714 - accuracy: 0.9688 - val_loss: 0.0712 - val_accuracy: 0.9698\n",
            "Epoch 30/150\n",
            "152/152 [==============================] - 88s 582ms/step - loss: 0.0707 - accuracy: 0.9691 - val_loss: 0.0701 - val_accuracy: 0.9713\n",
            "Epoch 31/150\n",
            "152/152 [==============================] - 88s 583ms/step - loss: 0.0693 - accuracy: 0.9696 - val_loss: 0.0695 - val_accuracy: 0.9707\n",
            "Epoch 32/150\n",
            "152/152 [==============================] - 88s 582ms/step - loss: 0.0686 - accuracy: 0.9700 - val_loss: 0.0688 - val_accuracy: 0.9709\n",
            "Epoch 33/150\n",
            "152/152 [==============================] - 88s 582ms/step - loss: 0.0670 - accuracy: 0.9707 - val_loss: 0.0724 - val_accuracy: 0.9689\n",
            "Epoch 34/150\n",
            "152/152 [==============================] - 88s 583ms/step - loss: 0.0665 - accuracy: 0.9710 - val_loss: 0.0699 - val_accuracy: 0.9705\n",
            "Epoch 35/150\n",
            "152/152 [==============================] - 88s 582ms/step - loss: 0.0655 - accuracy: 0.9714 - val_loss: 0.0750 - val_accuracy: 0.9703\n",
            "Epoch 36/150\n",
            "152/152 [==============================] - 88s 582ms/step - loss: 0.0646 - accuracy: 0.9718 - val_loss: 0.0726 - val_accuracy: 0.9703\n",
            "Epoch 37/150\n",
            "152/152 [==============================] - 88s 582ms/step - loss: 0.0633 - accuracy: 0.9724 - val_loss: 0.0737 - val_accuracy: 0.9678\n",
            "Epoch 38/150\n",
            "152/152 [==============================] - 88s 583ms/step - loss: 0.0630 - accuracy: 0.9724 - val_loss: 0.0714 - val_accuracy: 0.9710\n",
            "Epoch 39/150\n",
            "152/152 [==============================] - 88s 583ms/step - loss: 0.0621 - accuracy: 0.9729 - val_loss: 0.0732 - val_accuracy: 0.9704\n",
            "Epoch 40/150\n",
            "152/152 [==============================] - 88s 583ms/step - loss: 0.0611 - accuracy: 0.9734 - val_loss: 0.0748 - val_accuracy: 0.9689\n",
            "Epoch 41/150\n",
            "152/152 [==============================] - 88s 583ms/step - loss: 0.0606 - accuracy: 0.9736 - val_loss: 0.0741 - val_accuracy: 0.9701\n",
            "Epoch 42/150\n",
            "152/152 [==============================] - 88s 579ms/step - loss: 0.0584 - accuracy: 0.9746 - val_loss: 0.0714 - val_accuracy: 0.9704\n",
            "Epoch 43/150\n",
            "152/152 [==============================] - 88s 581ms/step - loss: 0.0584 - accuracy: 0.9745 - val_loss: 0.0720 - val_accuracy: 0.9711\n",
            "Epoch 44/150\n",
            "152/152 [==============================] - 88s 581ms/step - loss: 0.0570 - accuracy: 0.9752 - val_loss: 0.0750 - val_accuracy: 0.9692\n",
            "Epoch 45/150\n",
            "152/152 [==============================] - 89s 583ms/step - loss: 0.0565 - accuracy: 0.9754 - val_loss: 0.0763 - val_accuracy: 0.9705\n",
            "Epoch 46/150\n",
            "152/152 [==============================] - 88s 582ms/step - loss: 0.0554 - accuracy: 0.9759 - val_loss: 0.0723 - val_accuracy: 0.9699\n",
            "Epoch 47/150\n",
            "152/152 [==============================] - 88s 581ms/step - loss: 0.0553 - accuracy: 0.9760 - val_loss: 0.0762 - val_accuracy: 0.9698\n",
            "Epoch 48/150\n",
            "152/152 [==============================] - 90s 591ms/step - loss: 0.0541 - accuracy: 0.9765 - val_loss: 0.0738 - val_accuracy: 0.9710\n",
            "Epoch 49/150\n",
            "152/152 [==============================] - 88s 583ms/step - loss: 0.0548 - accuracy: 0.9762 - val_loss: 0.0769 - val_accuracy: 0.9684\n",
            "Epoch 50/150\n",
            "152/152 [==============================] - 89s 588ms/step - loss: 0.0531 - accuracy: 0.9769 - val_loss: 0.0752 - val_accuracy: 0.9710\n",
            "Epoch 51/150\n",
            "152/152 [==============================] - 88s 582ms/step - loss: 0.0516 - accuracy: 0.9776 - val_loss: 0.0846 - val_accuracy: 0.9704\n",
            "Epoch 52/150\n",
            "152/152 [==============================] - 88s 582ms/step - loss: 0.0514 - accuracy: 0.9777 - val_loss: 0.0750 - val_accuracy: 0.9695\n",
            "Epoch 53/150\n",
            "152/152 [==============================] - 88s 581ms/step - loss: 0.0514 - accuracy: 0.9778 - val_loss: 0.0767 - val_accuracy: 0.9703\n",
            "Epoch 54/150\n",
            "152/152 [==============================] - 88s 583ms/step - loss: 0.0498 - accuracy: 0.9784 - val_loss: 0.0846 - val_accuracy: 0.9703\n",
            "Epoch 55/150\n",
            "152/152 [==============================] - 88s 581ms/step - loss: 0.0496 - accuracy: 0.9786 - val_loss: 0.0779 - val_accuracy: 0.9689\n",
            "Epoch 56/150\n",
            "152/152 [==============================] - 88s 581ms/step - loss: 0.0485 - accuracy: 0.9790 - val_loss: 0.0820 - val_accuracy: 0.9703\n",
            "Epoch 57/150\n",
            "152/152 [==============================] - 89s 585ms/step - loss: 0.0481 - accuracy: 0.9792 - val_loss: 0.0798 - val_accuracy: 0.9696\n",
            "Epoch 58/150\n",
            "152/152 [==============================] - 88s 583ms/step - loss: 0.0474 - accuracy: 0.9796 - val_loss: 0.0815 - val_accuracy: 0.9677\n",
            "Epoch 59/150\n",
            "152/152 [==============================] - 89s 583ms/step - loss: 0.0473 - accuracy: 0.9796 - val_loss: 0.0786 - val_accuracy: 0.9709\n",
            "Epoch 60/150\n",
            "152/152 [==============================] - 89s 583ms/step - loss: 0.0467 - accuracy: 0.9798 - val_loss: 0.0830 - val_accuracy: 0.9693\n",
            "Epoch 61/150\n",
            "152/152 [==============================] - 89s 584ms/step - loss: 0.0459 - accuracy: 0.9803 - val_loss: 0.0860 - val_accuracy: 0.9698\n",
            "Epoch 62/150\n",
            "152/152 [==============================] - 89s 583ms/step - loss: 0.0460 - accuracy: 0.9801 - val_loss: 0.0812 - val_accuracy: 0.9689\n",
            "Epoch 63/150\n",
            "152/152 [==============================] - 88s 583ms/step - loss: 0.0460 - accuracy: 0.9802 - val_loss: 0.0840 - val_accuracy: 0.9698\n",
            "Epoch 64/150\n",
            "152/152 [==============================] - 88s 581ms/step - loss: 0.0455 - accuracy: 0.9804 - val_loss: 0.0782 - val_accuracy: 0.9699\n",
            "Epoch 65/150\n",
            "152/152 [==============================] - 88s 582ms/step - loss: 0.0446 - accuracy: 0.9808 - val_loss: 0.0770 - val_accuracy: 0.9686\n",
            "Epoch 66/150\n",
            "152/152 [==============================] - 89s 584ms/step - loss: 0.0439 - accuracy: 0.9810 - val_loss: 0.0802 - val_accuracy: 0.9687\n",
            "Epoch 67/150\n",
            "152/152 [==============================] - 88s 583ms/step - loss: 0.0489 - accuracy: 0.9791 - val_loss: 0.0849 - val_accuracy: 0.9671\n",
            "Epoch 68/150\n",
            "152/152 [==============================] - 88s 583ms/step - loss: 0.0462 - accuracy: 0.9802 - val_loss: 0.0800 - val_accuracy: 0.9706\n",
            "Epoch 69/150\n",
            "152/152 [==============================] - 88s 581ms/step - loss: 0.0444 - accuracy: 0.9810 - val_loss: 0.0842 - val_accuracy: 0.9697\n",
            "Epoch 70/150\n",
            "152/152 [==============================] - 88s 582ms/step - loss: 0.0431 - accuracy: 0.9815 - val_loss: 0.0906 - val_accuracy: 0.9692\n",
            "Epoch 71/150\n",
            "152/152 [==============================] - 89s 584ms/step - loss: 0.0423 - accuracy: 0.9818 - val_loss: 0.0816 - val_accuracy: 0.9691\n",
            "Epoch 72/150\n",
            "152/152 [==============================] - 89s 584ms/step - loss: 0.0420 - accuracy: 0.9820 - val_loss: 0.0834 - val_accuracy: 0.9692\n",
            "Epoch 73/150\n",
            "152/152 [==============================] - 88s 583ms/step - loss: 0.0413 - accuracy: 0.9823 - val_loss: 0.0880 - val_accuracy: 0.9691\n",
            "Epoch 74/150\n",
            "152/152 [==============================] - 88s 583ms/step - loss: 0.0409 - accuracy: 0.9825 - val_loss: 0.0828 - val_accuracy: 0.9685\n",
            "Epoch 75/150\n",
            "152/152 [==============================] - 88s 580ms/step - loss: 0.0411 - accuracy: 0.9824 - val_loss: 0.0867 - val_accuracy: 0.9695\n",
            "Epoch 76/150\n",
            "152/152 [==============================] - 88s 581ms/step - loss: 0.0409 - accuracy: 0.9824 - val_loss: 0.0911 - val_accuracy: 0.9697\n",
            "Epoch 77/150\n",
            "152/152 [==============================] - 88s 581ms/step - loss: 0.0404 - accuracy: 0.9827 - val_loss: 0.0927 - val_accuracy: 0.9697\n",
            "Epoch 78/150\n",
            "152/152 [==============================] - 88s 582ms/step - loss: 0.0402 - accuracy: 0.9828 - val_loss: 0.0946 - val_accuracy: 0.9703\n",
            "Epoch 79/150\n",
            "152/152 [==============================] - 88s 581ms/step - loss: 0.0406 - accuracy: 0.9826 - val_loss: 0.0833 - val_accuracy: 0.9683\n",
            "Epoch 80/150\n",
            "152/152 [==============================] - 88s 580ms/step - loss: 0.0399 - accuracy: 0.9830 - val_loss: 0.0860 - val_accuracy: 0.9661\n",
            "Epoch 81/150\n",
            "152/152 [==============================] - 88s 581ms/step - loss: 0.0402 - accuracy: 0.9828 - val_loss: 0.0891 - val_accuracy: 0.9686\n",
            "Epoch 82/150\n",
            "152/152 [==============================] - 89s 584ms/step - loss: 0.0395 - accuracy: 0.9831 - val_loss: 0.0885 - val_accuracy: 0.9688\n",
            "Epoch 83/150\n",
            "152/152 [==============================] - 92s 604ms/step - loss: 0.0389 - accuracy: 0.9834 - val_loss: 0.0887 - val_accuracy: 0.9703\n",
            "Epoch 84/150\n",
            "152/152 [==============================] - 89s 583ms/step - loss: 0.0388 - accuracy: 0.9834 - val_loss: 0.0930 - val_accuracy: 0.9706\n",
            "Epoch 85/150\n",
            "152/152 [==============================] - 89s 583ms/step - loss: 0.0382 - accuracy: 0.9837 - val_loss: 0.0897 - val_accuracy: 0.9692\n",
            "Epoch 86/150\n",
            "152/152 [==============================] - 88s 581ms/step - loss: 0.0379 - accuracy: 0.9838 - val_loss: 0.0891 - val_accuracy: 0.9700\n",
            "Epoch 87/150\n",
            " 47/152 [========>.....................] - ETA: 48s - loss: 0.0367 - accuracy: 0.9844"
          ]
        }
      ],
      "source": [
        "unet_model.compile(optimizer=tf.keras.optimizers.Adam(),\n",
        "                   loss=\"sparse_categorical_crossentropy\",\n",
        "                   metrics=\"accuracy\"\n",
        "                  )\n",
        "\n",
        "path = '/content/drive/MyDrive/Galaxy Segmentation Project/Modelos/'\n",
        "date = datetime.now().strftime(\"%Y_%m_%d-%H:%M:%S\")\n",
        "csv_log = CSVLogger(f'{path}{date}_{mask}_epochs:{NUM_EPOCHS}_size:{size}_th:{threshold}.csv')\n",
        "\n",
        "# Brazos: 4883, 1639. Barras: 3783, 1253. \n",
        "TRAIN_LENGTH = 4883\n",
        "STEPS_PER_EPOCH = TRAIN_LENGTH // BATCH_SIZE\n",
        "\n",
        "VAL_SUBSPLITS = 5\n",
        "TEST_LENGTH = 1639\n",
        "VALIDATION_STEPS = TEST_LENGTH // BATCH_SIZE // VAL_SUBSPLITS\n",
        "\n",
        "model_history = unet_model.fit(train_batches,\n",
        "                               epochs=NUM_EPOCHS,\n",
        "                               steps_per_epoch=STEPS_PER_EPOCH,\n",
        "                               validation_steps=VALIDATION_STEPS,\n",
        "                               validation_data=validation_batches,\n",
        "                               callbacks=[csv_log])\n",
        "\n",
        "unet_model.save(f'{path}{date}_{mask}_epochs:{NUM_EPOCHS}_size:{size}_th:{threshold}.h5')"
      ],
      "id": "f13d2a74-d811-42a2-95c6-ebae5a872415"
    },
    {
      "cell_type": "markdown",
      "metadata": {
        "id": "9c5f0cb0-f3ff-40c6-b743-0c7c3856c370"
      },
      "source": [
        "# Curvas de aprendizaje"
      ],
      "id": "9c5f0cb0-f3ff-40c6-b743-0c7c3856c370"
    },
    {
      "cell_type": "code",
      "execution_count": null,
      "metadata": {
        "id": "a55f17d6-873d-4ccb-a4d7-4680efdd7b1b"
      },
      "outputs": [],
      "source": [
        "def display_learning_curves(history):\n",
        "\n",
        "    acc = history.history[\"accuracy\"]\n",
        "    val_acc = history.history[\"val_accuracy\"]\n",
        "\n",
        "    loss = history.history[\"loss\"]\n",
        "    val_loss = history.history[\"val_loss\"]\n",
        "\n",
        "    epochs_range = range(NUM_EPOCHS)\n",
        "\n",
        "    fig, ax = plt.subplots(1, 2, figsize=(12,6))\n",
        "\n",
        "    ax[0].plot(epochs_range, acc, label=\"train accuracy\")\n",
        "    ax[0].plot(epochs_range, val_acc, label=\"validataion accuracy\")\n",
        "    ax[0].set_title(\"Accuracy\")\n",
        "    ax[0].set_xlabel(\"Epoch\")\n",
        "    ax[0].set_ylabel(\"Accuracy\")\n",
        "    ax[0].legend(loc=\"lower right\")\n",
        "\n",
        "    ax[1].plot(epochs_range, loss, label=\"train loss\")\n",
        "    ax[1].plot(epochs_range, val_loss, label=\"validataion loss\")\n",
        "    ax[1].set_title(\"Loss\")\n",
        "    ax[1].set_xlabel(\"Epoch\")\n",
        "    ax[1].set_ylabel(\"Loss\")\n",
        "    ax[1].set_ylim(min(min(loss), min(val_loss)), max(max(loss[1:]), max(val_loss[1:])))\n",
        "    ax[1].legend(loc=\"upper right\")\n",
        "\n",
        "    fig.tight_layout()\n",
        "    fig.show()\n",
        "\n",
        "\n",
        "display_learning_curves(unet_model.history)"
      ],
      "id": "a55f17d6-873d-4ccb-a4d7-4680efdd7b1b"
    },
    {
      "cell_type": "markdown",
      "metadata": {
        "id": "7817c041-e5e6-4fd6-8d75-6cdb958f4387"
      },
      "source": [
        "# Predicciones"
      ],
      "id": "7817c041-e5e6-4fd6-8d75-6cdb958f4387"
    },
    {
      "cell_type": "code",
      "execution_count": null,
      "metadata": {
        "id": "01382080-a6ac-466e-9016-2d5259a9b9ab"
      },
      "outputs": [],
      "source": [
        "def create_mask(pred_mask):\n",
        "  pred_mask = tf.argmax(pred_mask, axis=-1)\n",
        "  pred_mask = pred_mask[..., tf.newaxis]\n",
        "  return pred_mask[0]\n",
        "\n",
        "\n",
        "def show_predictions(dataset=None, num=1):\n",
        "  if dataset:\n",
        "    for image, mask in dataset.take(num):\n",
        "      pred_mask = unet_model.predict(image)\n",
        "      display([image[0], mask[0], create_mask(pred_mask)])\n",
        "      print('Matriz de confusión:')\n",
        "      print(confusion_matrix(create_mask(pred_mask).numpy().reshape(-1), mask[0].numpy().reshape(-1)))\n",
        "\n",
        "# count = 0\n",
        "# for i in test_batches:\n",
        "#     count +=1\n",
        "# print(\"number of batches:\", count)\n",
        "\n",
        "show_predictions(test_batches.skip(3), 15)"
      ],
      "id": "01382080-a6ac-466e-9016-2d5259a9b9ab"
    }
  ],
  "metadata": {
    "accelerator": "GPU",
    "colab": {
      "collapsed_sections": [
        "f2f3f81c-7cb9-4dcb-ab36-664a91ee3e62",
        "84ad081f-8fcf-4eb7-8963-209bf6833f0c",
        "f91aa58c-55ce-4bb6-8684-3be84dd70442"
      ],
      "name": "unet_binary_segmentation.ipynb",
      "provenance": []
    },
    "gpuClass": "standard",
    "kernelspec": {
      "display_name": "Python 3",
      "name": "python3"
    },
    "language_info": {
      "name": "python"
    }
  },
  "nbformat": 4,
  "nbformat_minor": 5
}