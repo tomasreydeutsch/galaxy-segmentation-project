{
 "cells": [
  {
   "cell_type": "markdown",
   "id": "0d2c1372-b40e-46fc-87fc-92e8f613a8bd",
   "metadata": {},
   "source": [
    "# Complete"
   ]
  },
  {
   "cell_type": "code",
   "execution_count": 14,
   "id": "aa4e6168-04ee-4809-b44f-558fdcbb8fb4",
   "metadata": {},
   "outputs": [],
   "source": [
    "run_from = 'amazon_sagemaker'\n",
    "NUM_EPOCHS = 10\n",
    "size = 128\n",
    "train_with, mask = 'only', 'bar_mask'\n",
    "min_vote = 3\n",
    "threshold = 3\n",
    "patience = 5"
   ]
  },
  {
   "cell_type": "markdown",
   "id": "f2f3f81c-7cb9-4dcb-ab36-664a91ee3e62",
   "metadata": {
    "id": "f2f3f81c-7cb9-4dcb-ab36-664a91ee3e62",
    "jp-MarkdownHeadingCollapsed": true,
    "tags": []
   },
   "source": [
    "# Libraries"
   ]
  },
  {
   "cell_type": "code",
   "execution_count": 15,
   "id": "77c7990c-23e8-41f5-a522-7a1bba616b5c",
   "metadata": {
    "colab": {
     "base_uri": "https://localhost:8080/"
    },
    "executionInfo": {
     "elapsed": 43660,
     "status": "ok",
     "timestamp": 1661262730054,
     "user": {
      "displayName": "tomas rey deutsch",
      "userId": "05891929112918210310"
     },
     "user_tz": 180
    },
    "id": "77c7990c-23e8-41f5-a522-7a1bba616b5c",
    "outputId": "869e9c7b-fd4f-4891-956c-963a14f5f73d"
   },
   "outputs": [],
   "source": [
    "import tensorflow as tf\n",
    "from tensorflow import keras\n",
    "from keras import layers\n",
    "import tensorflow_datasets as tfds\n",
    "import matplotlib.pyplot as plt\n",
    "import numpy as np\n",
    "import random\n",
    "import os\n",
    "from datetime import datetime\n",
    "from sklearn.metrics import confusion_matrix, jaccard_score\n",
    "from keras.callbacks import CSVLogger, EarlyStopping, ModelCheckpoint\n",
    "\n",
    "\n",
    "\n",
    "if run_from == 'google_colab':\n",
    "\n",
    "    from google.colab import drive\n",
    "\n",
    "    drive.mount('/content/drive')\n",
    "    !mkdir /root/tensorflow_datasets\n",
    "    !cp -r /content/drive/MyDrive/tensorflow_dataset/galaxy_zoo3d /root/tensorflow_datasets/.\n",
    "    \n",
    "    \n",
    "elif run_from == 'amazon_sagemaker':\n",
    "    \n",
    "    import matplotlib as mpl\n",
    "    \n",
    "    mpl.rcParams['xtick.color'] = 'w'\n",
    "    mpl.rcParams['ytick.color'] = 'w'\n",
    "    mpl.rcParams['xtick.labelcolor'] = 'w'\n",
    "    mpl.rcParams['axes.labelcolor'] = 'w'\n",
    "    mpl.rcParams['axes.titlecolor'] = 'w'"
   ]
  },
  {
   "cell_type": "markdown",
   "id": "84ad081f-8fcf-4eb7-8963-209bf6833f0c",
   "metadata": {
    "id": "84ad081f-8fcf-4eb7-8963-209bf6833f0c",
    "jp-MarkdownHeadingCollapsed": true,
    "tags": []
   },
   "source": [
    "# Data"
   ]
  },
  {
   "cell_type": "markdown",
   "id": "MWP_bbxY_KH9",
   "metadata": {
    "id": "MWP_bbxY_KH9",
    "jp-MarkdownHeadingCollapsed": true,
    "tags": []
   },
   "source": [
    "## Useful functions"
   ]
  },
  {
   "cell_type": "code",
   "execution_count": 16,
   "id": "cc71bb16-23a8-4e18-9498-45ff4d39ffea",
   "metadata": {
    "executionInfo": {
     "elapsed": 6,
     "status": "ok",
     "timestamp": 1661266986519,
     "user": {
      "displayName": "tomas rey deutsch",
      "userId": "05891929112918210310"
     },
     "user_tz": 180
    },
    "id": "cc71bb16-23a8-4e18-9498-45ff4d39ffea"
   },
   "outputs": [],
   "source": [
    "def resize(input_image, input_mask):\n",
    "    input_image = tf.image.resize(input_image, (size, size), method=\"nearest\")\n",
    "    input_mask = tf.image.resize(input_mask, (size, size), method=\"nearest\")\n",
    "\n",
    "    return input_image, input_mask \n",
    "\n",
    "\n",
    "def augment(input_image, input_mask):\n",
    "    if tf.random.uniform(()) > 0.5:\n",
    "        input_image = tf.image.flip_left_right(input_image)\n",
    "        input_mask = tf.image.flip_left_right(input_mask)\n",
    "    if tf.random.uniform(()) > 0.5:\n",
    "        input_image = tf.image.flip_up_down(input_image)\n",
    "        input_mask = tf.image.flip_up_down(input_mask)\n",
    "\n",
    "    return input_image, input_mask\n",
    "\n",
    "\n",
    "def normalize(input_image):\n",
    "    input_image = tf.cast(input_image, tf.float32) / 255.0\n",
    "  \n",
    "    return input_image\n",
    "\n",
    "\n",
    "def binary_mask(input_mask):\n",
    "    th = threshold\n",
    "    input_mask = tf.where(input_mask<th, tf.zeros_like(input_mask), tf.ones_like(input_mask))\n",
    "    \n",
    "    return input_mask\n",
    "    \n",
    "    \n",
    "def load_image_train(datapoint):\n",
    "    input_image = datapoint['image']\n",
    "    input_mask = datapoint[mask]\n",
    "    input_image, input_mask = resize(input_image, input_mask)\n",
    "    input_image, input_mask = augment(input_image, input_mask)\n",
    "    input_image = normalize(input_image)\n",
    "    input_mask = binary_mask(input_mask)\n",
    "\n",
    "    return input_image, input_mask\n",
    "\n",
    "\n",
    "def load_image_test(datapoint):\n",
    "    input_image = datapoint['image']\n",
    "    input_mask = datapoint[mask]\n",
    "    input_image, input_mask = resize(input_image, input_mask)\n",
    "    input_image = normalize(input_image)\n",
    "    input_mask = binary_mask(input_mask)\n",
    "\n",
    "    return input_image, input_mask\n",
    "\n",
    "\n",
    "def display(display_list):\n",
    "  plt.figure(figsize=(15, 15))\n",
    "  titles = ['Image', 'Mask', 'Prediction']\n",
    "  for i in range(len(display_list)):\n",
    "    plt.subplot(1, len(display_list), i+1)\n",
    "    plt.imshow(tf.keras.utils.array_to_img(display_list[i]))\n",
    "    plt.title(titles[i])\n",
    "    plt.axis(\"off\")\n",
    "  plt.show()"
   ]
  },
  {
   "cell_type": "markdown",
   "id": "YhI9YPG4_d4I",
   "metadata": {
    "id": "YhI9YPG4_d4I"
   },
   "source": [
    "## Data loader"
   ]
  },
  {
   "cell_type": "code",
   "execution_count": 17,
   "id": "oaZ8SkNm_iO5",
   "metadata": {
    "executionInfo": {
     "elapsed": 6,
     "status": "ok",
     "timestamp": 1661266986520,
     "user": {
      "displayName": "tomas rey deutsch",
      "userId": "05891929112918210310"
     },
     "user_tz": 180
    },
    "id": "oaZ8SkNm_iO5"
   },
   "outputs": [],
   "source": [
    "ds, info = tfds.load('galaxy_zoo3d', split=['train[:75%]', 'train[75%:]'], with_info=True)\n",
    "ds_train, ds_test = ds[0], ds[1]\n",
    "\n",
    "if train_with == 'all':\n",
    "  BUFFER_SIZE, BATCH_SIZE = 1000, 64\n",
    "  TRAIN_LENGTH, VAL_SIZE, TEST_SIZE = 22360, 4992, 2461\n",
    "elif train_with == 'only':\n",
    "  BUFFER_SIZE, BATCH_SIZE = 300, 32\n",
    "  if mask == 'spiral_mask':\n",
    "    ds_train = ds_train.filter(lambda x: tf.reduce_max(x['spiral_mask']) >= min_vote)      \n",
    "    ds_test = ds_test.filter(lambda x: tf.reduce_max(x['spiral_mask']) >= min_vote)\n",
    "    TRAIN_LENGTH, VAL_SIZE, TEST_SIZE = 4883, 1088, 551\n",
    "  elif mask == 'bar_mask':\n",
    "    ds_train = ds_train.filter(lambda x: tf.reduce_max(x['bar_mask']) >= min_vote)\n",
    "    ds_test = ds_test.filter(lambda x: tf.reduce_max(x['bar_mask']) >= min_vote)\n",
    "    TRAIN_LENGTH, VAL_SIZE, TEST_SIZE = 3783, 832, 421"
   ]
  },
  {
   "cell_type": "code",
   "execution_count": 18,
   "id": "d68fdbe2-1eae-49bb-a21f-20d85249d7ea",
   "metadata": {
    "executionInfo": {
     "elapsed": 932,
     "status": "ok",
     "timestamp": 1661266987446,
     "user": {
      "displayName": "tomas rey deutsch",
      "userId": "05891929112918210310"
     },
     "user_tz": 180
    },
    "id": "d68fdbe2-1eae-49bb-a21f-20d85249d7ea"
   },
   "outputs": [],
   "source": [
    "train_dataset = ds_train.map(load_image_train, num_parallel_calls=tf.data.AUTOTUNE)\n",
    "test_dataset = ds_test.map(load_image_test, num_parallel_calls=tf.data.AUTOTUNE)\n",
    "\n",
    "train_batches = train_dataset.cache().shuffle(BUFFER_SIZE).batch(BATCH_SIZE).repeat()\n",
    "train_batches = train_batches.prefetch(buffer_size=tf.data.experimental.AUTOTUNE)\n",
    "validation_batches = test_dataset.take(VAL_SIZE).batch(BATCH_SIZE)\n",
    "test_batches = test_dataset.skip(VAL_SIZE).take(TEST_SIZE).batch(BATCH_SIZE)"
   ]
  },
  {
   "cell_type": "markdown",
   "id": "91c381e3-573b-4e59-96ac-e9f7911476ae",
   "metadata": {
    "id": "91c381e3-573b-4e59-96ac-e9f7911476ae",
    "tags": []
   },
   "source": [
    "# U-Net"
   ]
  },
  {
   "cell_type": "markdown",
   "id": "pIVqGzt4_tQy",
   "metadata": {
    "id": "pIVqGzt4_tQy",
    "jp-MarkdownHeadingCollapsed": true,
    "tags": []
   },
   "source": [
    "## Model"
   ]
  },
  {
   "cell_type": "code",
   "execution_count": 19,
   "id": "2911cb7b-34cb-4e65-8444-11e7905c4572",
   "metadata": {
    "executionInfo": {
     "elapsed": 12,
     "status": "ok",
     "timestamp": 1661266987446,
     "user": {
      "displayName": "tomas rey deutsch",
      "userId": "05891929112918210310"
     },
     "user_tz": 180
    },
    "id": "2911cb7b-34cb-4e65-8444-11e7905c4572"
   },
   "outputs": [],
   "source": [
    "def double_conv_block(x, n_filters):\n",
    "\n",
    "    x = layers.Conv2D(n_filters, 3, padding = \"same\", activation = \"relu\", kernel_initializer = \"he_normal\")(x)\n",
    "    x = layers.Conv2D(n_filters, 3, padding = \"same\", activation = \"relu\", kernel_initializer = \"he_normal\")(x)\n",
    "\n",
    "    return x\n",
    "\n",
    "\n",
    "def downsample_block(x, n_filters):\n",
    "    \n",
    "    f = double_conv_block(x, n_filters)\n",
    "    p = layers.MaxPool2D(2)(f)\n",
    "    p = layers.Dropout(0.3)(p)\n",
    "\n",
    "    return f, p\n",
    "\n",
    "\n",
    "def upsample_block(x, conv_features, n_filters):\n",
    "    \n",
    "    x = layers.Conv2DTranspose(n_filters, 3, 2, padding=\"same\")(x)\n",
    "    x = layers.concatenate([x, conv_features])\n",
    "    x = layers.Dropout(0.3)(x)\n",
    "    x = double_conv_block(x, n_filters)\n",
    "\n",
    "    return x"
   ]
  },
  {
   "cell_type": "code",
   "execution_count": 20,
   "id": "2ca7cc04-df25-40b6-be0b-1166aedf38e6",
   "metadata": {
    "executionInfo": {
     "elapsed": 12,
     "status": "ok",
     "timestamp": 1661266987447,
     "user": {
      "displayName": "tomas rey deutsch",
      "userId": "05891929112918210310"
     },
     "user_tz": 180
    },
    "id": "2ca7cc04-df25-40b6-be0b-1166aedf38e6"
   },
   "outputs": [],
   "source": [
    "def build_unet_model():\n",
    "\n",
    "    inputs = layers.Input(shape=(size,size,3))\n",
    "\n",
    "    f1, p1 = downsample_block(inputs, size/2)\n",
    "    f2, p2 = downsample_block(p1, size)\n",
    "    f3, p3 = downsample_block(p2, size*2)\n",
    "    f4, p4 = downsample_block(p3, size*4)\n",
    "\n",
    "    bottleneck = double_conv_block(p4, size*8)\n",
    "\n",
    "    u6 = upsample_block(bottleneck, f4, size*4)\n",
    "    u7 = upsample_block(u6, f3, size*2)\n",
    "    u8 = upsample_block(u7, f2, size)\n",
    "    u9 = upsample_block(u8, f1, size/2)\n",
    "\n",
    "    outputs = layers.Conv2D(2, 1, padding=\"same\", activation = \"softmax\")(u9)\n",
    "\n",
    "    unet_model = tf.keras.Model(inputs, outputs, name=\"U-Net\")\n",
    "\n",
    "    return unet_model"
   ]
  },
  {
   "cell_type": "markdown",
   "id": "k4tt8wv7AZtm",
   "metadata": {
    "id": "k4tt8wv7AZtm",
    "jp-MarkdownHeadingCollapsed": true,
    "tags": []
   },
   "source": [
    "## Callbacks"
   ]
  },
  {
   "cell_type": "code",
   "execution_count": 28,
   "id": "hs7vnGX1AcF3",
   "metadata": {
    "executionInfo": {
     "elapsed": 11,
     "status": "ok",
     "timestamp": 1661266987447,
     "user": {
      "displayName": "tomas rey deutsch",
      "userId": "05891929112918210310"
     },
     "user_tz": 180
    },
    "id": "hs7vnGX1AcF3"
   },
   "outputs": [],
   "source": [
    "date = datetime.now().strftime(\"%Y_%m_%d-%H:%M:%S\")\n",
    "filename = f'{date}_{train_with}_'+mask.split('_')[0]+'-'+mask.split('_')[1]+f'_epochs:{NUM_EPOCHS}_size:{size}_th:{threshold}_patience:{patience}'\n",
    "if run_from == 'google_colab':\n",
    "    path = '/content/drive/MyDrive/Galaxy Segmentation Project/Modelos/'\n",
    "elif run_from == 'amazon_sagemaker':\n",
    "    path = '/home/studio-lab-user/sagemaker-studiolab-notebooks/Galaxy Segmentation Project/Modelos/'\n",
    "os.mkdir(f'{path}{filename}')\n",
    "\n",
    "csv_log = CSVLogger(f'{path}{filename}/{filename}.csv')\n",
    "early_stop = EarlyStopping(monitor='val_loss', patience=patience, mode='min')\n",
    "mcp_save_best = ModelCheckpoint(filepath=f'{path}{filename}/{filename}_best.h5', monitor='val_accuracy', mode='max', save_best_only=True)\n",
    "mcp_save_last = ModelCheckpoint(filepath=f'{path}{filename}/{filename}_last.h5')"
   ]
  },
  {
   "cell_type": "markdown",
   "id": "mIYoHoxs_vWK",
   "metadata": {
    "id": "mIYoHoxs_vWK",
    "tags": []
   },
   "source": [
    "## Training"
   ]
  },
  {
   "cell_type": "code",
   "execution_count": 30,
   "id": "f13d2a74-d811-42a2-95c6-ebae5a872415",
   "metadata": {
    "colab": {
     "base_uri": "https://localhost:8080/"
    },
    "collapsed": true,
    "executionInfo": {
     "elapsed": 1104190,
     "status": "ok",
     "timestamp": 1661268091627,
     "user": {
      "displayName": "tomas rey deutsch",
      "userId": "05891929112918210310"
     },
     "user_tz": 180
    },
    "id": "f13d2a74-d811-42a2-95c6-ebae5a872415",
    "jupyter": {
     "outputs_hidden": true
    },
    "outputId": "ac8d8807-3dfa-43c1-ff0c-706b2187ffc2",
    "tags": []
   },
   "outputs": [
    {
     "name": "stdout",
     "output_type": "stream",
     "text": [
      "Epoch 1/10\n"
     ]
    },
    {
     "name": "stderr",
     "output_type": "stream",
     "text": [
      "2022-08-23 18:17:31.562896: I tensorflow/core/kernels/data/shuffle_dataset_op.cc:390] Filling up shuffle buffer (this may take a while): 269 of 300\n",
      "2022-08-23 18:17:32.361404: I tensorflow/core/kernels/data/shuffle_dataset_op.cc:415] Shuffle buffer filled.\n"
     ]
    },
    {
     "ename": "KeyboardInterrupt",
     "evalue": "",
     "output_type": "error",
     "traceback": [
      "\u001b[0;31m---------------------------------------------------------------------------\u001b[0m",
      "\u001b[0;31mKeyboardInterrupt\u001b[0m                         Traceback (most recent call last)",
      "Input \u001b[0;32mIn [30]\u001b[0m, in \u001b[0;36m<cell line: 14>\u001b[0;34m()\u001b[0m\n\u001b[1;32m     11\u001b[0m TEST_LENGTH \u001b[38;5;241m=\u001b[39m VAL_SIZE \u001b[38;5;241m+\u001b[39m TEST_SIZE\n\u001b[1;32m     12\u001b[0m VALIDATION_STEPS \u001b[38;5;241m=\u001b[39m TEST_LENGTH \u001b[38;5;241m/\u001b[39m\u001b[38;5;241m/\u001b[39m BATCH_SIZE \u001b[38;5;241m/\u001b[39m\u001b[38;5;241m/\u001b[39m VAL_SUBSPLITS\n\u001b[0;32m---> 14\u001b[0m model_history \u001b[38;5;241m=\u001b[39m \u001b[43munet_model\u001b[49m\u001b[38;5;241;43m.\u001b[39;49m\u001b[43mfit\u001b[49m\u001b[43m(\u001b[49m\u001b[43mtrain_batches\u001b[49m\u001b[43m,\u001b[49m\n\u001b[1;32m     15\u001b[0m \u001b[43m                               \u001b[49m\u001b[43mepochs\u001b[49m\u001b[38;5;241;43m=\u001b[39;49m\u001b[43mNUM_EPOCHS\u001b[49m\u001b[43m,\u001b[49m\n\u001b[1;32m     16\u001b[0m \u001b[43m                               \u001b[49m\u001b[43msteps_per_epoch\u001b[49m\u001b[38;5;241;43m=\u001b[39;49m\u001b[43mSTEPS_PER_EPOCH\u001b[49m\u001b[43m,\u001b[49m\n\u001b[1;32m     17\u001b[0m \u001b[43m                               \u001b[49m\u001b[43mvalidation_steps\u001b[49m\u001b[38;5;241;43m=\u001b[39;49m\u001b[43mVALIDATION_STEPS\u001b[49m\u001b[43m,\u001b[49m\n\u001b[1;32m     18\u001b[0m \u001b[43m                               \u001b[49m\u001b[43mvalidation_data\u001b[49m\u001b[38;5;241;43m=\u001b[39;49m\u001b[43mvalidation_batches\u001b[49m\u001b[43m,\u001b[49m\n\u001b[1;32m     19\u001b[0m \u001b[43m                               \u001b[49m\u001b[43mcallbacks\u001b[49m\u001b[38;5;241;43m=\u001b[39;49m\u001b[43m[\u001b[49m\u001b[43mcsv_log\u001b[49m\u001b[43m,\u001b[49m\u001b[43m \u001b[49m\u001b[43mearly_stop\u001b[49m\u001b[43m,\u001b[49m\u001b[43m \u001b[49m\u001b[43mmcp_save_best\u001b[49m\u001b[43m,\u001b[49m\u001b[43m \u001b[49m\u001b[43mmcp_save_last\u001b[49m\u001b[43m]\u001b[49m\u001b[43m)\u001b[49m\n",
      "File \u001b[0;32m~/.conda/envs/d2l/lib/python3.9/site-packages/keras/utils/traceback_utils.py:64\u001b[0m, in \u001b[0;36mfilter_traceback.<locals>.error_handler\u001b[0;34m(*args, **kwargs)\u001b[0m\n\u001b[1;32m     62\u001b[0m filtered_tb \u001b[38;5;241m=\u001b[39m \u001b[38;5;28;01mNone\u001b[39;00m\n\u001b[1;32m     63\u001b[0m \u001b[38;5;28;01mtry\u001b[39;00m:\n\u001b[0;32m---> 64\u001b[0m   \u001b[38;5;28;01mreturn\u001b[39;00m \u001b[43mfn\u001b[49m\u001b[43m(\u001b[49m\u001b[38;5;241;43m*\u001b[39;49m\u001b[43margs\u001b[49m\u001b[43m,\u001b[49m\u001b[43m \u001b[49m\u001b[38;5;241;43m*\u001b[39;49m\u001b[38;5;241;43m*\u001b[39;49m\u001b[43mkwargs\u001b[49m\u001b[43m)\u001b[49m\n\u001b[1;32m     65\u001b[0m \u001b[38;5;28;01mexcept\u001b[39;00m \u001b[38;5;167;01mException\u001b[39;00m \u001b[38;5;28;01mas\u001b[39;00m e:  \u001b[38;5;66;03m# pylint: disable=broad-except\u001b[39;00m\n\u001b[1;32m     66\u001b[0m   filtered_tb \u001b[38;5;241m=\u001b[39m _process_traceback_frames(e\u001b[38;5;241m.\u001b[39m__traceback__)\n",
      "File \u001b[0;32m~/.conda/envs/d2l/lib/python3.9/site-packages/keras/engine/training.py:1384\u001b[0m, in \u001b[0;36mModel.fit\u001b[0;34m(self, x, y, batch_size, epochs, verbose, callbacks, validation_split, validation_data, shuffle, class_weight, sample_weight, initial_epoch, steps_per_epoch, validation_steps, validation_batch_size, validation_freq, max_queue_size, workers, use_multiprocessing)\u001b[0m\n\u001b[1;32m   1377\u001b[0m \u001b[38;5;28;01mwith\u001b[39;00m tf\u001b[38;5;241m.\u001b[39mprofiler\u001b[38;5;241m.\u001b[39mexperimental\u001b[38;5;241m.\u001b[39mTrace(\n\u001b[1;32m   1378\u001b[0m     \u001b[38;5;124m'\u001b[39m\u001b[38;5;124mtrain\u001b[39m\u001b[38;5;124m'\u001b[39m,\n\u001b[1;32m   1379\u001b[0m     epoch_num\u001b[38;5;241m=\u001b[39mepoch,\n\u001b[1;32m   1380\u001b[0m     step_num\u001b[38;5;241m=\u001b[39mstep,\n\u001b[1;32m   1381\u001b[0m     batch_size\u001b[38;5;241m=\u001b[39mbatch_size,\n\u001b[1;32m   1382\u001b[0m     _r\u001b[38;5;241m=\u001b[39m\u001b[38;5;241m1\u001b[39m):\n\u001b[1;32m   1383\u001b[0m   callbacks\u001b[38;5;241m.\u001b[39mon_train_batch_begin(step)\n\u001b[0;32m-> 1384\u001b[0m   tmp_logs \u001b[38;5;241m=\u001b[39m \u001b[38;5;28;43mself\u001b[39;49m\u001b[38;5;241;43m.\u001b[39;49m\u001b[43mtrain_function\u001b[49m\u001b[43m(\u001b[49m\u001b[43miterator\u001b[49m\u001b[43m)\u001b[49m\n\u001b[1;32m   1385\u001b[0m   \u001b[38;5;28;01mif\u001b[39;00m data_handler\u001b[38;5;241m.\u001b[39mshould_sync:\n\u001b[1;32m   1386\u001b[0m     context\u001b[38;5;241m.\u001b[39masync_wait()\n",
      "File \u001b[0;32m~/.conda/envs/d2l/lib/python3.9/site-packages/tensorflow/python/util/traceback_utils.py:150\u001b[0m, in \u001b[0;36mfilter_traceback.<locals>.error_handler\u001b[0;34m(*args, **kwargs)\u001b[0m\n\u001b[1;32m    148\u001b[0m filtered_tb \u001b[38;5;241m=\u001b[39m \u001b[38;5;28;01mNone\u001b[39;00m\n\u001b[1;32m    149\u001b[0m \u001b[38;5;28;01mtry\u001b[39;00m:\n\u001b[0;32m--> 150\u001b[0m   \u001b[38;5;28;01mreturn\u001b[39;00m \u001b[43mfn\u001b[49m\u001b[43m(\u001b[49m\u001b[38;5;241;43m*\u001b[39;49m\u001b[43margs\u001b[49m\u001b[43m,\u001b[49m\u001b[43m \u001b[49m\u001b[38;5;241;43m*\u001b[39;49m\u001b[38;5;241;43m*\u001b[39;49m\u001b[43mkwargs\u001b[49m\u001b[43m)\u001b[49m\n\u001b[1;32m    151\u001b[0m \u001b[38;5;28;01mexcept\u001b[39;00m \u001b[38;5;167;01mException\u001b[39;00m \u001b[38;5;28;01mas\u001b[39;00m e:\n\u001b[1;32m    152\u001b[0m   filtered_tb \u001b[38;5;241m=\u001b[39m _process_traceback_frames(e\u001b[38;5;241m.\u001b[39m__traceback__)\n",
      "File \u001b[0;32m~/.conda/envs/d2l/lib/python3.9/site-packages/tensorflow/python/eager/def_function.py:915\u001b[0m, in \u001b[0;36mFunction.__call__\u001b[0;34m(self, *args, **kwds)\u001b[0m\n\u001b[1;32m    912\u001b[0m compiler \u001b[38;5;241m=\u001b[39m \u001b[38;5;124m\"\u001b[39m\u001b[38;5;124mxla\u001b[39m\u001b[38;5;124m\"\u001b[39m \u001b[38;5;28;01mif\u001b[39;00m \u001b[38;5;28mself\u001b[39m\u001b[38;5;241m.\u001b[39m_jit_compile \u001b[38;5;28;01melse\u001b[39;00m \u001b[38;5;124m\"\u001b[39m\u001b[38;5;124mnonXla\u001b[39m\u001b[38;5;124m\"\u001b[39m\n\u001b[1;32m    914\u001b[0m \u001b[38;5;28;01mwith\u001b[39;00m OptionalXlaContext(\u001b[38;5;28mself\u001b[39m\u001b[38;5;241m.\u001b[39m_jit_compile):\n\u001b[0;32m--> 915\u001b[0m   result \u001b[38;5;241m=\u001b[39m \u001b[38;5;28;43mself\u001b[39;49m\u001b[38;5;241;43m.\u001b[39;49m\u001b[43m_call\u001b[49m\u001b[43m(\u001b[49m\u001b[38;5;241;43m*\u001b[39;49m\u001b[43margs\u001b[49m\u001b[43m,\u001b[49m\u001b[43m \u001b[49m\u001b[38;5;241;43m*\u001b[39;49m\u001b[38;5;241;43m*\u001b[39;49m\u001b[43mkwds\u001b[49m\u001b[43m)\u001b[49m\n\u001b[1;32m    917\u001b[0m new_tracing_count \u001b[38;5;241m=\u001b[39m \u001b[38;5;28mself\u001b[39m\u001b[38;5;241m.\u001b[39mexperimental_get_tracing_count()\n\u001b[1;32m    918\u001b[0m without_tracing \u001b[38;5;241m=\u001b[39m (tracing_count \u001b[38;5;241m==\u001b[39m new_tracing_count)\n",
      "File \u001b[0;32m~/.conda/envs/d2l/lib/python3.9/site-packages/tensorflow/python/eager/def_function.py:980\u001b[0m, in \u001b[0;36mFunction._call\u001b[0;34m(self, *args, **kwds)\u001b[0m\n\u001b[1;32m    976\u001b[0m     \u001b[38;5;28;01mpass\u001b[39;00m  \u001b[38;5;66;03m# Fall through to cond-based initialization.\u001b[39;00m\n\u001b[1;32m    977\u001b[0m   \u001b[38;5;28;01melse\u001b[39;00m:\n\u001b[1;32m    978\u001b[0m     \u001b[38;5;66;03m# Lifting succeeded, so variables are initialized and we can run the\u001b[39;00m\n\u001b[1;32m    979\u001b[0m     \u001b[38;5;66;03m# stateless function.\u001b[39;00m\n\u001b[0;32m--> 980\u001b[0m     \u001b[38;5;28;01mreturn\u001b[39;00m \u001b[38;5;28;43mself\u001b[39;49m\u001b[38;5;241;43m.\u001b[39;49m\u001b[43m_stateless_fn\u001b[49m\u001b[43m(\u001b[49m\u001b[38;5;241;43m*\u001b[39;49m\u001b[43margs\u001b[49m\u001b[43m,\u001b[49m\u001b[43m \u001b[49m\u001b[38;5;241;43m*\u001b[39;49m\u001b[38;5;241;43m*\u001b[39;49m\u001b[43mkwds\u001b[49m\u001b[43m)\u001b[49m\n\u001b[1;32m    981\u001b[0m \u001b[38;5;28;01melse\u001b[39;00m:\n\u001b[1;32m    982\u001b[0m   _, _, _, filtered_flat_args \u001b[38;5;241m=\u001b[39m \\\n\u001b[1;32m    983\u001b[0m       \u001b[38;5;28mself\u001b[39m\u001b[38;5;241m.\u001b[39m_stateful_fn\u001b[38;5;241m.\u001b[39m_function_spec\u001b[38;5;241m.\u001b[39mcanonicalize_function_inputs(  \u001b[38;5;66;03m# pylint: disable=protected-access\u001b[39;00m\n\u001b[1;32m    984\u001b[0m           \u001b[38;5;241m*\u001b[39margs, \u001b[38;5;241m*\u001b[39m\u001b[38;5;241m*\u001b[39mkwds)\n",
      "File \u001b[0;32m~/.conda/envs/d2l/lib/python3.9/site-packages/tensorflow/python/eager/function.py:2956\u001b[0m, in \u001b[0;36mFunction.__call__\u001b[0;34m(self, *args, **kwargs)\u001b[0m\n\u001b[1;32m   2953\u001b[0m \u001b[38;5;28;01mwith\u001b[39;00m \u001b[38;5;28mself\u001b[39m\u001b[38;5;241m.\u001b[39m_lock:\n\u001b[1;32m   2954\u001b[0m   (graph_function,\n\u001b[1;32m   2955\u001b[0m    filtered_flat_args) \u001b[38;5;241m=\u001b[39m \u001b[38;5;28mself\u001b[39m\u001b[38;5;241m.\u001b[39m_maybe_define_function(args, kwargs)\n\u001b[0;32m-> 2956\u001b[0m \u001b[38;5;28;01mreturn\u001b[39;00m \u001b[43mgraph_function\u001b[49m\u001b[38;5;241;43m.\u001b[39;49m\u001b[43m_call_flat\u001b[49m\u001b[43m(\u001b[49m\n\u001b[1;32m   2957\u001b[0m \u001b[43m    \u001b[49m\u001b[43mfiltered_flat_args\u001b[49m\u001b[43m,\u001b[49m\u001b[43m \u001b[49m\u001b[43mcaptured_inputs\u001b[49m\u001b[38;5;241;43m=\u001b[39;49m\u001b[43mgraph_function\u001b[49m\u001b[38;5;241;43m.\u001b[39;49m\u001b[43mcaptured_inputs\u001b[49m\u001b[43m)\u001b[49m\n",
      "File \u001b[0;32m~/.conda/envs/d2l/lib/python3.9/site-packages/tensorflow/python/eager/function.py:1853\u001b[0m, in \u001b[0;36mConcreteFunction._call_flat\u001b[0;34m(self, args, captured_inputs, cancellation_manager)\u001b[0m\n\u001b[1;32m   1849\u001b[0m possible_gradient_type \u001b[38;5;241m=\u001b[39m gradients_util\u001b[38;5;241m.\u001b[39mPossibleTapeGradientTypes(args)\n\u001b[1;32m   1850\u001b[0m \u001b[38;5;28;01mif\u001b[39;00m (possible_gradient_type \u001b[38;5;241m==\u001b[39m gradients_util\u001b[38;5;241m.\u001b[39mPOSSIBLE_GRADIENT_TYPES_NONE\n\u001b[1;32m   1851\u001b[0m     \u001b[38;5;129;01mand\u001b[39;00m executing_eagerly):\n\u001b[1;32m   1852\u001b[0m   \u001b[38;5;66;03m# No tape is watching; skip to running the function.\u001b[39;00m\n\u001b[0;32m-> 1853\u001b[0m   \u001b[38;5;28;01mreturn\u001b[39;00m \u001b[38;5;28mself\u001b[39m\u001b[38;5;241m.\u001b[39m_build_call_outputs(\u001b[38;5;28;43mself\u001b[39;49m\u001b[38;5;241;43m.\u001b[39;49m\u001b[43m_inference_function\u001b[49m\u001b[38;5;241;43m.\u001b[39;49m\u001b[43mcall\u001b[49m\u001b[43m(\u001b[49m\n\u001b[1;32m   1854\u001b[0m \u001b[43m      \u001b[49m\u001b[43mctx\u001b[49m\u001b[43m,\u001b[49m\u001b[43m \u001b[49m\u001b[43margs\u001b[49m\u001b[43m,\u001b[49m\u001b[43m \u001b[49m\u001b[43mcancellation_manager\u001b[49m\u001b[38;5;241;43m=\u001b[39;49m\u001b[43mcancellation_manager\u001b[49m\u001b[43m)\u001b[49m)\n\u001b[1;32m   1855\u001b[0m forward_backward \u001b[38;5;241m=\u001b[39m \u001b[38;5;28mself\u001b[39m\u001b[38;5;241m.\u001b[39m_select_forward_and_backward_functions(\n\u001b[1;32m   1856\u001b[0m     args,\n\u001b[1;32m   1857\u001b[0m     possible_gradient_type,\n\u001b[1;32m   1858\u001b[0m     executing_eagerly)\n\u001b[1;32m   1859\u001b[0m forward_function, args_with_tangents \u001b[38;5;241m=\u001b[39m forward_backward\u001b[38;5;241m.\u001b[39mforward()\n",
      "File \u001b[0;32m~/.conda/envs/d2l/lib/python3.9/site-packages/tensorflow/python/eager/function.py:499\u001b[0m, in \u001b[0;36m_EagerDefinedFunction.call\u001b[0;34m(self, ctx, args, cancellation_manager)\u001b[0m\n\u001b[1;32m    497\u001b[0m \u001b[38;5;28;01mwith\u001b[39;00m _InterpolateFunctionError(\u001b[38;5;28mself\u001b[39m):\n\u001b[1;32m    498\u001b[0m   \u001b[38;5;28;01mif\u001b[39;00m cancellation_manager \u001b[38;5;129;01mis\u001b[39;00m \u001b[38;5;28;01mNone\u001b[39;00m:\n\u001b[0;32m--> 499\u001b[0m     outputs \u001b[38;5;241m=\u001b[39m \u001b[43mexecute\u001b[49m\u001b[38;5;241;43m.\u001b[39;49m\u001b[43mexecute\u001b[49m\u001b[43m(\u001b[49m\n\u001b[1;32m    500\u001b[0m \u001b[43m        \u001b[49m\u001b[38;5;28;43mstr\u001b[39;49m\u001b[43m(\u001b[49m\u001b[38;5;28;43mself\u001b[39;49m\u001b[38;5;241;43m.\u001b[39;49m\u001b[43msignature\u001b[49m\u001b[38;5;241;43m.\u001b[39;49m\u001b[43mname\u001b[49m\u001b[43m)\u001b[49m\u001b[43m,\u001b[49m\n\u001b[1;32m    501\u001b[0m \u001b[43m        \u001b[49m\u001b[43mnum_outputs\u001b[49m\u001b[38;5;241;43m=\u001b[39;49m\u001b[38;5;28;43mself\u001b[39;49m\u001b[38;5;241;43m.\u001b[39;49m\u001b[43m_num_outputs\u001b[49m\u001b[43m,\u001b[49m\n\u001b[1;32m    502\u001b[0m \u001b[43m        \u001b[49m\u001b[43minputs\u001b[49m\u001b[38;5;241;43m=\u001b[39;49m\u001b[43margs\u001b[49m\u001b[43m,\u001b[49m\n\u001b[1;32m    503\u001b[0m \u001b[43m        \u001b[49m\u001b[43mattrs\u001b[49m\u001b[38;5;241;43m=\u001b[39;49m\u001b[43mattrs\u001b[49m\u001b[43m,\u001b[49m\n\u001b[1;32m    504\u001b[0m \u001b[43m        \u001b[49m\u001b[43mctx\u001b[49m\u001b[38;5;241;43m=\u001b[39;49m\u001b[43mctx\u001b[49m\u001b[43m)\u001b[49m\n\u001b[1;32m    505\u001b[0m   \u001b[38;5;28;01melse\u001b[39;00m:\n\u001b[1;32m    506\u001b[0m     outputs \u001b[38;5;241m=\u001b[39m execute\u001b[38;5;241m.\u001b[39mexecute_with_cancellation(\n\u001b[1;32m    507\u001b[0m         \u001b[38;5;28mstr\u001b[39m(\u001b[38;5;28mself\u001b[39m\u001b[38;5;241m.\u001b[39msignature\u001b[38;5;241m.\u001b[39mname),\n\u001b[1;32m    508\u001b[0m         num_outputs\u001b[38;5;241m=\u001b[39m\u001b[38;5;28mself\u001b[39m\u001b[38;5;241m.\u001b[39m_num_outputs,\n\u001b[0;32m   (...)\u001b[0m\n\u001b[1;32m    511\u001b[0m         ctx\u001b[38;5;241m=\u001b[39mctx,\n\u001b[1;32m    512\u001b[0m         cancellation_manager\u001b[38;5;241m=\u001b[39mcancellation_manager)\n",
      "File \u001b[0;32m~/.conda/envs/d2l/lib/python3.9/site-packages/tensorflow/python/eager/execute.py:54\u001b[0m, in \u001b[0;36mquick_execute\u001b[0;34m(op_name, num_outputs, inputs, attrs, ctx, name)\u001b[0m\n\u001b[1;32m     52\u001b[0m \u001b[38;5;28;01mtry\u001b[39;00m:\n\u001b[1;32m     53\u001b[0m   ctx\u001b[38;5;241m.\u001b[39mensure_initialized()\n\u001b[0;32m---> 54\u001b[0m   tensors \u001b[38;5;241m=\u001b[39m \u001b[43mpywrap_tfe\u001b[49m\u001b[38;5;241;43m.\u001b[39;49m\u001b[43mTFE_Py_Execute\u001b[49m\u001b[43m(\u001b[49m\u001b[43mctx\u001b[49m\u001b[38;5;241;43m.\u001b[39;49m\u001b[43m_handle\u001b[49m\u001b[43m,\u001b[49m\u001b[43m \u001b[49m\u001b[43mdevice_name\u001b[49m\u001b[43m,\u001b[49m\u001b[43m \u001b[49m\u001b[43mop_name\u001b[49m\u001b[43m,\u001b[49m\n\u001b[1;32m     55\u001b[0m \u001b[43m                                      \u001b[49m\u001b[43minputs\u001b[49m\u001b[43m,\u001b[49m\u001b[43m \u001b[49m\u001b[43mattrs\u001b[49m\u001b[43m,\u001b[49m\u001b[43m \u001b[49m\u001b[43mnum_outputs\u001b[49m\u001b[43m)\u001b[49m\n\u001b[1;32m     56\u001b[0m \u001b[38;5;28;01mexcept\u001b[39;00m core\u001b[38;5;241m.\u001b[39m_NotOkStatusException \u001b[38;5;28;01mas\u001b[39;00m e:\n\u001b[1;32m     57\u001b[0m   \u001b[38;5;28;01mif\u001b[39;00m name \u001b[38;5;129;01mis\u001b[39;00m \u001b[38;5;129;01mnot\u001b[39;00m \u001b[38;5;28;01mNone\u001b[39;00m:\n",
      "\u001b[0;31mKeyboardInterrupt\u001b[0m: "
     ]
    }
   ],
   "source": [
    "unet_model = build_unet_model()\n",
    "\n",
    "unet_model.compile(optimizer=tf.keras.optimizers.Adam(),\n",
    "                   loss=\"sparse_categorical_crossentropy\",\n",
    "                   metrics=\"accuracy\"\n",
    "                  )\n",
    "\n",
    "STEPS_PER_EPOCH = TRAIN_LENGTH // BATCH_SIZE\n",
    "\n",
    "VAL_SUBSPLITS = 5\n",
    "TEST_LENGTH = VAL_SIZE + TEST_SIZE\n",
    "VALIDATION_STEPS = TEST_LENGTH // BATCH_SIZE // VAL_SUBSPLITS\n",
    "\n",
    "model_history = unet_model.fit(train_batches,\n",
    "                               epochs=NUM_EPOCHS,\n",
    "                               steps_per_epoch=STEPS_PER_EPOCH,\n",
    "                               validation_steps=VALIDATION_STEPS,\n",
    "                               validation_data=validation_batches,\n",
    "                               callbacks=[csv_log, early_stop, mcp_save_best, mcp_save_last])"
   ]
  },
  {
   "cell_type": "markdown",
   "id": "9c5f0cb0-f3ff-40c6-b743-0c7c3856c370",
   "metadata": {
    "id": "9c5f0cb0-f3ff-40c6-b743-0c7c3856c370"
   },
   "source": [
    "# Learning curves"
   ]
  },
  {
   "cell_type": "markdown",
   "id": "lX_91Dgz-uzX",
   "metadata": {
    "id": "lX_91Dgz-uzX",
    "jp-MarkdownHeadingCollapsed": true,
    "tags": []
   },
   "source": [
    "## Display functions"
   ]
  },
  {
   "cell_type": "code",
   "execution_count": null,
   "id": "a55f17d6-873d-4ccb-a4d7-4680efdd7b1b",
   "metadata": {
    "executionInfo": {
     "elapsed": 24,
     "status": "ok",
     "timestamp": 1661268091639,
     "user": {
      "displayName": "tomas rey deutsch",
      "userId": "05891929112918210310"
     },
     "user_tz": 180
    },
    "id": "a55f17d6-873d-4ccb-a4d7-4680efdd7b1b"
   },
   "outputs": [],
   "source": [
    "def display_learning_curves(history):\n",
    "\n",
    "    val_acc = history.history[\"val_accuracy\"]\n",
    "    acc = history.history[\"accuracy\"]\n",
    "\n",
    "    val_loss = history.history[\"val_loss\"]\n",
    "    loss = history.history[\"loss\"]\n",
    "\n",
    "    epochs_range = range(len(loss))\n",
    "\n",
    "    fig, ax = plt.subplots(1, 2, figsize=(12,6))\n",
    "\n",
    "    ax[0].plot(epochs_range, loss, label=\"train loss\", linewidth=2.5)\n",
    "    ax[0].plot(epochs_range, val_loss, label=\"validation loss\", linewidth=2.5)\n",
    "    ax[0].set_xlabel(\"Epoch\", fontsize=20, labelpad=10)\n",
    "    ax[0].set_ylabel(\"Loss\", fontsize=20, labelpad=10)\n",
    "    ax[0].set_ylim(min(min(loss), min(val_loss)), max(max(loss[1:]), max(val_loss[1:])))\n",
    "    ax[0].tick_params(axis='both', labelsize=15)\n",
    "    ax[0].legend(loc=\"best\", fontsize=15)\n",
    "\n",
    "    ax[1].plot(epochs_range, acc, label=\"train accuracy\", linewidth=2.5)\n",
    "    ax[1].plot(epochs_range, val_acc, label=\"validation accuracy\", linewidth=2.5)\n",
    "    ax[1].set_xlabel(\"Epoch\", fontsize=20, labelpad=10)\n",
    "    ax[1].set_ylabel(\"Accuracy\", fontsize=20, labelpad=10)\n",
    "    ax[1].tick_params(axis='both', labelsize=15)\n",
    "    ax[1].legend(loc=\"best\", fontsize=15)\n",
    "\n",
    "    fig.tight_layout()\n",
    "    fig.show()"
   ]
  },
  {
   "cell_type": "markdown",
   "id": "wQGTdgU0-07N",
   "metadata": {
    "id": "wQGTdgU0-07N"
   },
   "source": [
    "## Learning graphs"
   ]
  },
  {
   "cell_type": "code",
   "execution_count": null,
   "id": "Upw8bwEx-4ne",
   "metadata": {
    "colab": {
     "base_uri": "https://localhost:8080/",
     "height": 441
    },
    "executionInfo": {
     "elapsed": 23,
     "status": "ok",
     "timestamp": 1661268091640,
     "user": {
      "displayName": "tomas rey deutsch",
      "userId": "05891929112918210310"
     },
     "user_tz": 180
    },
    "id": "Upw8bwEx-4ne",
    "outputId": "978fed98-9802-4d8c-8a85-ec958ddc324d"
   },
   "outputs": [],
   "source": [
    "display_learning_curves(unet_model.history)"
   ]
  },
  {
   "cell_type": "markdown",
   "id": "7817c041-e5e6-4fd6-8d75-6cdb958f4387",
   "metadata": {
    "id": "7817c041-e5e6-4fd6-8d75-6cdb958f4387"
   },
   "source": [
    "# Predictions"
   ]
  },
  {
   "cell_type": "markdown",
   "id": "vfSj3qqX_FgF",
   "metadata": {
    "id": "vfSj3qqX_FgF",
    "jp-MarkdownHeadingCollapsed": true,
    "tags": []
   },
   "source": [
    "## Prediction funcitons"
   ]
  },
  {
   "cell_type": "code",
   "execution_count": null,
   "id": "01382080-a6ac-466e-9016-2d5259a9b9ab",
   "metadata": {
    "executionInfo": {
     "elapsed": 19,
     "status": "ok",
     "timestamp": 1661268091641,
     "user": {
      "displayName": "tomas rey deutsch",
      "userId": "05891929112918210310"
     },
     "user_tz": 180
    },
    "id": "01382080-a6ac-466e-9016-2d5259a9b9ab"
   },
   "outputs": [],
   "source": [
    "def create_mask(pred_mask):\n",
    "  pred_mask = tf.argmax(pred_mask, axis=-1)\n",
    "  pred_mask = pred_mask[..., tf.newaxis]\n",
    "  return pred_mask\n",
    "\n",
    "\n",
    "def show_predictions(dataset=None, num=1):\n",
    "  if dataset:\n",
    "    for image, mask in dataset:\n",
    "      pred_mask = create_mask(unet_model.predict(image))\n",
    "      for ind in range(num):\n",
    "        display([image[ind], mask[ind], pred_mask[ind]])\n",
    "        if np.amax(pred_mask[ind].numpy()) == 0:\n",
    "          print(2*'\\n')\n",
    "          continue\n",
    "        else:\n",
    "          conf_matrix = confusion_matrix(pred_mask[ind].numpy().reshape(-1), mask[ind].numpy().reshape(-1))\n",
    "          jacc_score = jaccard_score(pred_mask[ind].numpy().reshape(-1), mask[ind].numpy().reshape(-1))\n",
    "          print('Confusion matrix:     Precision:    Sensitivity/Recall:   Specificity:      Jaccard score: \\n',\n",
    "          conf_matrix, '\\t',\n",
    "          round(conf_matrix[1,1]/(conf_matrix[1,0]+conf_matrix[1,1]), 2), 2*'\\t  ',\n",
    "          round(conf_matrix[1,1]/(conf_matrix[0,1]+conf_matrix[1,1]), 2), '\\t     ',\n",
    "          round(conf_matrix[0,0]/(conf_matrix[0,0]+conf_matrix[1,0]), 2), 2*'\\t',\n",
    "          round(jacc_score, 2), '\\n')"
   ]
  },
  {
   "cell_type": "markdown",
   "id": "qZABh3Hy_QfI",
   "metadata": {
    "id": "qZABh3Hy_QfI"
   },
   "source": [
    "## Prediction examples"
   ]
  },
  {
   "cell_type": "code",
   "execution_count": null,
   "id": "ikNJASiu_VUx",
   "metadata": {
    "colab": {
     "base_uri": "https://localhost:8080/",
     "height": 1000,
     "output_embedded_package_id": "1l3cX0NYwH1VmtvUs8z20SlvtFXXHQTDG"
    },
    "executionInfo": {
     "elapsed": 98251,
     "status": "ok",
     "timestamp": 1661268189873,
     "user": {
      "displayName": "tomas rey deutsch",
      "userId": "05891929112918210310"
     },
     "user_tz": 180
    },
    "id": "ikNJASiu_VUx",
    "outputId": "fee2f736-954d-40e1-deb2-654e22940a20"
   },
   "outputs": [],
   "source": [
    "show_predictions(test_batches.skip(random.randint(0, 15)).take(1), 25)"
   ]
  }
 ],
 "metadata": {
  "accelerator": "GPU",
  "colab": {
   "collapsed_sections": [
    "f2f3f81c-7cb9-4dcb-ab36-664a91ee3e62",
    "MWP_bbxY_KH9",
    "YhI9YPG4_d4I",
    "pIVqGzt4_tQy",
    "k4tt8wv7AZtm"
   ],
   "name": "unet_binary_segmentation.ipynb",
   "provenance": [
    {
     "file_id": "1c1jViBYVdGNpDfl9Y8DXbL2xV0ERKNQf",
     "timestamp": 1660071767505
    }
   ]
  },
  "gpuClass": "standard",
  "kernelspec": {
   "display_name": "d2l:Python",
   "language": "python",
   "name": "conda-env-d2l-py"
  },
  "language_info": {
   "codemirror_mode": {
    "name": "ipython",
    "version": 3
   },
   "file_extension": ".py",
   "mimetype": "text/x-python",
   "name": "python",
   "nbconvert_exporter": "python",
   "pygments_lexer": "ipython3",
   "version": "3.9.13"
  }
 },
 "nbformat": 4,
 "nbformat_minor": 5
}
